{
  "nbformat": 4,
  "nbformat_minor": 0,
  "metadata": {
    "colab": {
      "provenance": [],
      "authorship_tag": "ABX9TyM4aFsOwsh6XhbU/3NucFfw",
      "include_colab_link": true
    },
    "kernelspec": {
      "name": "python3",
      "display_name": "Python 3"
    },
    "language_info": {
      "name": "python"
    }
  },
  "cells": [
    {
      "cell_type": "markdown",
      "metadata": {
        "id": "view-in-github",
        "colab_type": "text"
      },
      "source": [
        "<a href=\"https://colab.research.google.com/github/indranil046/4-febasian/blob/main/Assignment_2.ipynb\" target=\"_parent\"><img src=\"https://colab.research.google.com/assets/colab-badge.svg\" alt=\"Open In Colab\"/></a>"
      ]
    },
    {
      "cell_type": "code",
      "execution_count": null,
      "metadata": {
        "id": "sm0tkqCch7qX"
      },
      "outputs": [],
      "source": [
        "1:1. Single-line Comments\n",
        "Begin with the # symbol.\n",
        "\n",
        "Everything after # on the same line is ignored by the Python interpreter.\n",
        "2. Multi-line Comments (Block Comments)\n",
        "Python doesn’t have a native multi-line comment syntax like some other languages.\n",
        "\n",
        "You can create multi-line comments by using a series of # symbols at the\n",
        "beginning of each line:\n",
        "\n",
        "2:x = 10          # Integer assignment\n",
        "name = \"Alice\"  # String assignment\n",
        "pi = 3.14       # Float assignment\n",
        "is_valid = True # Boolean assignment\n",
        "\n",
        "3:x = \"100\"\n",
        "y = int(x)      # y = 100 (integer)\n",
        "\n",
        "a = 3.5\n",
        "b = str(a)      # b = \"3.5\" (string)\n",
        "\n",
        "c = [1, 2, 3]\n",
        "d = tuple(c)    # d = (1, 2, 3) (tuple)\n",
        "\n",
        "4:# hello.py\n",
        "print(\"Hello, world!\")\n",
        "\n",
        "5:sub_list = my_list[1:3]\n",
        "print(sub_list)\n",
        "\n",
        "6:z = 3 + 4j\n",
        "print(z.real)      # Output: 3.0\n",
        "print(z.imag)      # Output: 4.0\n",
        "\n",
        "7:age = 25\n",
        "\n",
        "8:price = 9.99\n",
        "print(type(price))   # Output: <class 'float'>\n",
        "\n",
        "9:name = \"John Doe\"  # Replace with your actual name\n",
        "print(name)\n",
        "\n",
        "10:text = \"Hello, World!\"\n",
        "substring = text[7:12]\n",
        "print(substring)\n",
        "\n",
        "11:is_student = True  # If you are a student\n",
        "is_student = False  # If you are not a student\n"
      ]
    }
  ]
}