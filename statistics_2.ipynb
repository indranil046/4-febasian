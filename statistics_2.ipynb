{
  "nbformat": 4,
  "nbformat_minor": 0,
  "metadata": {
    "colab": {
      "provenance": [],
      "authorship_tag": "ABX9TyOV19eR4fZpWkMVip+zlGv9",
      "include_colab_link": true
    },
    "kernelspec": {
      "name": "python3",
      "display_name": "Python 3"
    },
    "language_info": {
      "name": "python"
    }
  },
  "cells": [
    {
      "cell_type": "markdown",
      "metadata": {
        "id": "view-in-github",
        "colab_type": "text"
      },
      "source": [
        "<a href=\"https://colab.research.google.com/github/indranil046/4-febasian/blob/main/statistics_2.ipynb\" target=\"_parent\"><img src=\"https://colab.research.google.com/assets/colab-badge.svg\" alt=\"Open In Colab\"/></a>"
      ]
    },
    {
      "cell_type": "code",
      "execution_count": null,
      "metadata": {
        "id": "M3qtisvT3Dwz"
      },
      "outputs": [],
      "source": [
        "1:The three measures of central tendency are:\n",
        "\n",
        "Mean - the average of a set of numbers.\n",
        "\n",
        "Median - the middle value when the numbers are arranged in order.\n",
        "\n",
        "Mode - the number that appears most frequently in a set.\n",
        "\n",
        "2:the difference between mean, median, and mode is:\n",
        "\n",
        "Mean is the average — you add up all the numbers and divide by how many numbers\n",
        "there are.\n",
        "\n",
        "Median is the middle value — you arrange the numbers in order and pick the\n",
        "center one (or average the two middle ones if there's an even number).\n",
        "\n",
        "Mode is the most frequent — the number that shows up the most often.\n",
        "\n",
        "How they measure central tendency:\n",
        "\n",
        "Mean gives a balanced center, but it can be affected by extreme values\n",
        " (outliers).\n",
        "\n",
        "Median shows the middle point of the data, making it more robust against\n",
        "            outliers.\n",
        "\n",
        "Mode tells you the most common value, which is useful especially for categorical\n",
        "            data (like favorite colors).\n",
        "\n",
        "Each one gives a slightly different view of where the \"center\" of the data is!\n",
        "\n",
        "Want me to show you a quick example where they all turn out different?\n",
        "\n",
        "3:Mean ≈ 177.08\n",
        "\n",
        "Median = 177\n",
        "\n",
        "Mode = 177 and 178\n",
        "\n",
        "4:Standard Deviation=\n",
        "\n",
        "            root(3.4175)\n",
        " ≈1.848\n",
        "\n",
        "5:Range = Highest value – Lowest value.\n",
        " Shows the total spread of the data.\n",
        "\n",
        "Variance = Average of the squared differences from the mean.\n",
        " Tells how much the data varies from the mean on average.\n",
        "\n",
        "Standard Deviation = Square root of variance.\n",
        " Gives a typical distance from the mean in the same units as the data\n",
        " (more interpretable than variance).\n",
        "\n",
        "6:A Venn diagram is a visual tool made of overlapping circles that shows the\n",
        "relationships between different sets (groups of things).\n",
        "\n",
        "\n",
        "7:A∩B={2,6}\n",
        "A∪B={0,2,3,4,5,6,7,8,10}\n",
        "\n",
        "\n",
        "8:Skewness describes the shape of the distribution of data — specifically,\n",
        "            whether the data is symmetrical or leaning (skewed) to one side.\n",
        "\n",
        "If data is perfectly symmetrical, the skewness is zero (like a normal bell curve).\n",
        "\n",
        "If data is skewed right (positively skewed), it has a long tail on the right.\n",
        " (The mean > median.)\n",
        "\n",
        "If data is skewed left (negatively skewed), it has a long tail on the left.\n",
        " (The mean < median.)\n",
        "\n",
        "9:If a data is right-skewed (positively skewed):\n",
        "\n",
        "The mean will be greater than the median.\n",
        "\n",
        "In other words:\n",
        "\n",
        "Mean>Median\n",
        "\n",
        "10:If you have data on study hours and test scores:\n",
        "\n",
        "Covariance might tell you whether more study hours are associated with higher\n",
        "            scores (positive covariance), but you wouldn't know how strong\n",
        "            that relationship is just from the covariance.\n",
        "\n",
        "Correlation would tell you not only that study hours and test scores are\n",
        "            positively related, but also how strongly they are related\n",
        "             (for example, a correlation of 0.85 indicates a strong positive\n",
        "              relationship).\n",
        "\n",
        "11:\n",
        "The sample mean age is 26.\n",
        "\n",
        "12:Mean=Median=Mode\n",
        "\n",
        "13:Covariance gives you the direction of the relationship but does not indicate\n",
        "the strength. Its magnitude depends on the scale of the data.\n",
        "\n",
        "Correlation gives you both the direction and the strength of the relationship,\n",
        "and its value is always between -1 and +1.\n",
        "\n",
        "14:Outliers increase the mean, range, variance, and standard deviation because\n",
        "these measures are sensitive to extreme values.\n",
        "\n",
        "Outliers have little or no effect on the median and mode, as the median is\n",
        "based on the middle value and the mode depends on frequency rather than magnitude.\n",
        ""
      ]
    },
    {
      "cell_type": "code",
      "source": [],
      "metadata": {
        "id": "iyV99AmM5dHc"
      },
      "execution_count": null,
      "outputs": []
    },
    {
      "cell_type": "markdown",
      "source": [],
      "metadata": {
        "id": "aNfCybdg5dcb"
      }
    },
    {
      "cell_type": "code",
      "source": [],
      "metadata": {
        "id": "Uoq92H5V5WW-"
      },
      "execution_count": null,
      "outputs": []
    }
  ]
}