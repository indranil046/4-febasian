{
 "cells": [
  {
   "cell_type": "code",
   "execution_count": 1,
   "id": "149d231b-8820-47d2-8c21-f663c27e3284",
   "metadata": {},
   "outputs": [],
   "source": [
    "###Q1)\n",
    "class Car:\n",
    "    def __init__(self, make, model, year):\n",
    "        self.make = make\n",
    "        self.model = model\n",
    "        self.year = year\n",
    "        self.speed = 0\n",
    "\n",
    "    def accelerate(self, increment):\n",
    "        self.speed += increment\n",
    "\n",
    "    def brake(self, decrement):\n",
    "        self.speed -= decrement\n",
    "\n",
    "    def get_speed(self):\n",
    "        return self.speed\n"
   ]
  },
  {
   "cell_type": "code",
   "execution_count": 2,
   "id": "0099a27e-f1fc-4e97-abdf-ef113295769c",
   "metadata": {},
   "outputs": [],
   "source": [
    "my_car = Car(\"Toyota\", \"Camry\", 2022)\n"
   ]
  },
  {
   "cell_type": "code",
   "execution_count": 3,
   "id": "2c3adeee-9c13-47dd-abec-cce9df2e4aa1",
   "metadata": {},
   "outputs": [
    {
     "name": "stdout",
     "output_type": "stream",
     "text": [
      "Toyota\n",
      "Camry\n",
      "2022\n",
      "30\n",
      "20\n"
     ]
    }
   ],
   "source": [
    "print(my_car.make)  \n",
    "print(my_car.model)  \n",
    "print(my_car.year) \n",
    "\n",
    "my_car.accelerate(30)\n",
    "print(my_car.get_speed()) \n",
    "\n",
    "my_car.brake(10)\n",
    "print(my_car.get_speed())  \n"
   ]
  },
  {
   "cell_type": "markdown",
   "id": "8a80856a-b4f7-44ee-84af-e315d215c437",
   "metadata": {},
   "source": [
    "###Q2)\n",
    "\n",
    "The four pillars of object-oriented programming (OOP) are:\n",
    "\n",
    "Encapsulatio,Inheritance,Polymorphism,Abstraction\n"
   ]
  },
  {
   "cell_type": "code",
   "execution_count": 6,
   "id": "728b8588-cb11-4cb0-9061-d361738a2ac4",
   "metadata": {},
   "outputs": [],
   "source": [
    "###Q3)\n",
    "class Person:\n",
    "    def __init__(self, name, age):\n",
    "        self.name = name\n",
    "        self.age = age\n",
    "\n",
    "    def introduce(self):\n",
    "        print(f\"Hello, my name is {self.name} and I am {self.age} years old.\")\n"
   ]
  },
  {
   "cell_type": "code",
   "execution_count": 7,
   "id": "f8f0e7b3-8580-4ac6-a555-4529711d00f2",
   "metadata": {},
   "outputs": [],
   "source": [
    "data= Person(\"indranil\", 27)\n"
   ]
  },
  {
   "cell_type": "code",
   "execution_count": 8,
   "id": "6da55d62-9c0c-492b-abc1-34d943d94324",
   "metadata": {},
   "outputs": [
    {
     "name": "stdout",
     "output_type": "stream",
     "text": [
      "indranil\n",
      "27\n",
      "Hello, my name is indranil and I am 27 years old.\n"
     ]
    }
   ],
   "source": [
    "print(data.name)  \n",
    "print(data.age)  \n",
    "data.introduce()  \n"
   ]
  },
  {
   "cell_type": "raw",
   "id": "a5fbd7df-027f-4199-9ea0-7793f2913098",
   "metadata": {},
   "source": [
    "###Q4)\n",
    "In object-oriented programming (OOP), \n",
    "the self parameter is used to refer to the \n",
    "instance of a class within the class's methods\n"
   ]
  },
  {
   "cell_type": "code",
   "execution_count": 10,
   "id": "f5a34de2-14ce-457c-b5df-0c5c313309ab",
   "metadata": {},
   "outputs": [
    {
     "name": "stdout",
     "output_type": "stream",
     "text": [
      "Breathing...\n",
      "Barking...\n"
     ]
    }
   ],
   "source": [
    "###Q5)\n",
    "###Single Inheritance:\n",
    "class Animal:\n",
    "    def breathe(self):\n",
    "        print(\"Breathing...\")\n",
    "\n",
    "class Dog(Animal):\n",
    "    def bark(self):\n",
    "        print(\"Barking...\")\n",
    "\n",
    "my_dog = Dog()\n",
    "my_dog.breathe()  \n",
    "my_dog.bark() "
   ]
  },
  {
   "cell_type": "code",
   "execution_count": 11,
   "id": "a3c3146e-6add-44b8-960b-b17ab588e5f3",
   "metadata": {},
   "outputs": [
    {
     "name": "stdout",
     "output_type": "stream",
     "text": [
      "Breathing...\n",
      "Feeding milk...\n",
      "Barking...\n"
     ]
    }
   ],
   "source": [
    "###Multiple Inheritance:\n",
    "class Animal:\n",
    "    def breathe(self):\n",
    "        print(\"Breathing...\")\n",
    "\n",
    "class Mammal:\n",
    "    def feed_milk(self):\n",
    "        print(\"Feeding milk...\")\n",
    "\n",
    "class Dog(Animal, Mammal):\n",
    "    def bark(self):\n",
    "        print(\"Barking...\")\n",
    "\n",
    "my_dog = Dog()\n",
    "my_dog.breathe()  \n",
    "my_dog.feed_milk()  \n",
    "my_dog.bark() \n"
   ]
  },
  {
   "cell_type": "code",
   "execution_count": 12,
   "id": "f267b392-2a26-4e8e-bda7-8931968e4bd0",
   "metadata": {},
   "outputs": [
    {
     "name": "stdout",
     "output_type": "stream",
     "text": [
      "Breathing...\n",
      "Feeding milk...\n",
      "Barking...\n"
     ]
    }
   ],
   "source": [
    "###Multilevel Inheritance:\n",
    "class Animal:\n",
    "    def breathe(self):\n",
    "        print(\"Breathing...\")\n",
    "\n",
    "class Mammal(Animal):\n",
    "    def feed_milk(self):\n",
    "        print(\"Feeding milk...\")\n",
    "\n",
    "class Dog(Mammal):\n",
    "    def bark(self):\n",
    "        print(\"Barking...\")\n",
    "\n",
    "my_dog = Dog()\n",
    "my_dog.breathe()  \n",
    "my_dog.feed_milk()  \n",
    "my_dog.bark() \n"
   ]
  },
  {
   "cell_type": "code",
   "execution_count": null,
   "id": "e2ce1515-615a-44f1-807d-59a4fbbcd5d1",
   "metadata": {},
   "outputs": [],
   "source": []
  }
 ],
 "metadata": {
  "kernelspec": {
   "display_name": "Python 3 (ipykernel)",
   "language": "python",
   "name": "python3"
  },
  "language_info": {
   "codemirror_mode": {
    "name": "ipython",
    "version": 3
   },
   "file_extension": ".py",
   "mimetype": "text/x-python",
   "name": "python",
   "nbconvert_exporter": "python",
   "pygments_lexer": "ipython3",
   "version": "3.10.8"
  }
 },
 "nbformat": 4,
 "nbformat_minor": 5
}
