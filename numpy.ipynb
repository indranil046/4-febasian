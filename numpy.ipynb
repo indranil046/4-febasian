{
  "nbformat": 4,
  "nbformat_minor": 0,
  "metadata": {
    "colab": {
      "provenance": [],
      "authorship_tag": "ABX9TyOaMSdyzgtUXGzOG+BJJ3Mg",
      "include_colab_link": true
    },
    "kernelspec": {
      "name": "python3",
      "display_name": "Python 3"
    },
    "language_info": {
      "name": "python"
    }
  },
  "cells": [
    {
      "cell_type": "markdown",
      "metadata": {
        "id": "view-in-github",
        "colab_type": "text"
      },
      "source": [
        "<a href=\"https://colab.research.google.com/github/indranil046/4-febasian/blob/main/numpy.ipynb\" target=\"_parent\"><img src=\"https://colab.research.google.com/assets/colab-badge.svg\" alt=\"Open In Colab\"/></a>"
      ]
    },
    {
      "cell_type": "code",
      "execution_count": null,
      "metadata": {
        "id": "pRfdHAaAIa6K"
      },
      "outputs": [],
      "source": [
        "1:import numpy as np\n",
        "\n",
        "# Fixing the quotes\n",
        "list_ = ['1', '2', '3', '4', '5']\n",
        "\n",
        "# Converting to NumPy array\n",
        "array_list = np.array(object=list_)\n",
        "\n",
        "# Printing data types\n",
        "print(\"Type of list_:\", type(list_))\n",
        "print(\"Type of array_list:\", type(array_list))\n",
        "\n",
        "# Additionally, showing the data type of elements inside array_list\n",
        "print(\"Data type of elements in array_list:\", array_list.dtype)\n",
        "type(list_) will return <class 'list'>.\n",
        "\n",
        "type(array_list) will return <class 'numpy.ndarray'>.\n",
        "\n",
        "array_list.dtype will likely be '<U1' (Unicode string of length 1), since it\n",
        "contains strings.\n",
        "\n",
        "2:import numpy as np\n",
        "\n",
        "# List and NumPy array\n",
        "list_ = ['1', '2', '3', '4', '5']\n",
        "array_list = np.array(object=list_)\n",
        "\n",
        "# Printing data type of each element in list_\n",
        "print(\"Data types of elements in list_:\")\n",
        "for item in list_:\n",
        "    print(f\"{item} -> {type(item)}\")\n",
        "\n",
        "# Printing data type of each element in array_list\n",
        "print(\"\\nData types of elements in array_list:\")\n",
        "for item in array_list:\n",
        "    print(f\"{item} -> {type(item)}\")\n",
        "\n",
        "\n",
        "3:import numpy as np\n",
        "\n",
        "# Original list with strings\n",
        "list_ = ['1', '2', '3', '4', '5']\n",
        "\n",
        "# Convert to NumPy array with integer data type\n",
        "array_list = np.array(object=list_, dtype=int)\n",
        "\n",
        "# Printing element data types in list_\n",
        "print(\"Data types of elements in list_:\")\n",
        "for item in list_:\n",
        "    print(f\"{item} -> {type(item)}\")\n",
        "\n",
        "# Printing element data types in array_list\n",
        "print(\"\\nData types of elements in array_list:\")\n",
        "for item in array_list:\n",
        "    print(f\"{item} -> {type(item)}\")\n",
        "\n",
        "4:import numpy as np\n",
        "\n",
        "# Define a nested list\n",
        "num_list = [[1, 2, 3], [4, 5, 6]]\n",
        "\n",
        "# Convert the list into a NumPy array\n",
        "num_array = np.array(object=num_list)\n",
        "\n",
        "# Print shape and size\n",
        "print(\"Shape of num_array:\", num_array.shape)\n",
        "print(\"Size of num_array:\", num_array.size)\n",
        "\n",
        "5:import numpy as np\n",
        "\n",
        "# Create a 3x3 matrix filled with zeros\n",
        "zero_matrix = np.zeros((3, 3))\n",
        "\n",
        "# Print the matrix\n",
        "print(\"3x3 Zero Matrix:\")\n",
        "print(zero_matrix)\n",
        "\n",
        "6:import numpy as np\n",
        "\n",
        "# Create a 5x5 identity matrix\n",
        "identity_matrix = np.identity(5)\n",
        "\n",
        "# Print the matrix\n",
        "print(\"5x5 Identity Matrix:\")\n",
        "print(identity_matrix)\n"
      ]
    }
  ]
}