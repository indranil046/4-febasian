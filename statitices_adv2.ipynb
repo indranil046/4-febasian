{
  "nbformat": 4,
  "nbformat_minor": 0,
  "metadata": {
    "colab": {
      "provenance": [],
      "authorship_tag": "ABX9TyOPXmGnYPIvl6xfs9UEUK/G",
      "include_colab_link": true
    },
    "kernelspec": {
      "name": "python3",
      "display_name": "Python 3"
    },
    "language_info": {
      "name": "python"
    }
  },
  "cells": [
    {
      "cell_type": "markdown",
      "metadata": {
        "id": "view-in-github",
        "colab_type": "text"
      },
      "source": [
        "<a href=\"https://colab.research.google.com/github/indranil046/4-febasian/blob/main/statitices_adv2.ipynb\" target=\"_parent\"><img src=\"https://colab.research.google.com/assets/colab-badge.svg\" alt=\"Open In Colab\"/></a>"
      ]
    },
    {
      "cell_type": "code",
      "execution_count": null,
      "metadata": {
        "id": "l9D9r-G0zefL"
      },
      "outputs": [],
      "source": [
        "1:PMF (Probability Mass Function) is used for discrete random variables and\n",
        "gives the exact probability of a specific value occurring.\n",
        "\n",
        "PDF (Probability Density Function) is used for continuous random variables and\n",
        "describes the likelihood of a random variable falling within a given range, but\n",
        "not at a specific point.\n",
        "\n",
        "\n",
        "2:The Cumulative Distribution Function (CDF) is a vital tool in probability\n",
        "theory that provides the cumulative probability up to a given value. It is\n",
        "used extensively in statistical analysis, simulations, and probability modeling.\n",
        "It helps in understanding the behavior of random variables and comparing\n",
        "different distributions.\n",
        "\n",
        "3:The normal distribution is widely used to model real-world phenomena that are\n",
        "symmetric and exhibit a \"bell-shaped\" curve, such as human height, IQ scores,\n",
        "measurement errors, etc.\n",
        "\n",
        "Mean (μ) determines the location of the peak of the distribution, and standard\n",
        "deviation (σ) controls the spread or width of the curve.\n",
        "\n",
        "As the standard deviation increases, the curve becomes wider and more spread out,\n",
        " and as the standard deviation decreases, the curve becomes narrower and steeper\n",
        "\n",
        "4:The normal distribution is essential because it models many natural and social\n",
        " phenomena and is foundational in statistics. Its mathematical properties make\n",
        " it a powerful tool for analysis and decision-making, and the Central Limit\n",
        " Theorem ensures that the normal distribution is often a good approximation for\n",
        " many types of data, even if the underlying data is not normally distributed.\n",
        "\n",
        "From human heights to stock market returns, the normal distribution helps us\n",
        "understand, model, and make predictions about a wide range of phenomena, making\n",
        "it indispensable in fields such as statistics, economics, engineering, and\n",
        "social sciences.\n",
        "\n",
        "5:The Bernoulli distribution is used for modeling a single trial with two\n",
        "possible outcomes (success or failure).\n",
        "\n",
        "The Binomial distribution is a generalization of the Bernoulli distribution,\n",
        "used to model the number of successes in\n",
        "𝑛\n",
        "n independent Bernoulli trials.\n",
        "\n",
        "6:Next, we use the Z-score to find the cumulative probability from the standard normal distribution. The cumulative probability gives the probability that a randomly selected observation is less than or equal to 60.\n",
        "\n",
        "We can look up the Z-score (1) in a Z-table (standard normal distribution table)\n",
        ", or use a calculator. For\n",
        "𝑍=1\n",
        "Z=1, the cumulative probability is approximately:\n",
        "This means that the probability of a randomly selected observation being less\n",
        "than or equal to 60 is 0.8413 (or 84.13%).\n",
        "\n",
        "7:A uniform distribution is a simple, yet important distribution that models\n",
        "situations where each possible outcome has the same probability. It can be\n",
        "discrete (with a finite number of outcomes) or continuous (where outcomes are\n",
        " spread across an interval). Understanding uniform distributions is crucial for\n",
        " scenarios where randomness is evenly distributed.\n",
        "\n",
        "8:The Z-score is a versatile and fundamental concept in statistics that allows\n",
        "us to understand how data points relate to the mean of a dataset. It is widely\n",
        "used for comparing data, detecting outliers, and making statistical inferences.\n",
        "\n",
        "9:The Central Limit Theorem (CLT) is a foundational concept in statistics\n",
        "because it allows us to make inferences about a population even if we don’t know\n",
        "the distribution of the population. By ensuring that the distribution of sample\n",
        "means approaches a normal distribution as the sample size increases, the CLT\n",
        "facilitates the use of powerful statistical techniques in a wide range of\n",
        "applications, even when the underlying population is not normally distributed.\n",
        "This makes CLT an essential tool for data analysis, hypothesis testing, and\n",
        "inferential statistics.\n",
        "\n",
        "10:For the Central Limit Theorem (CLT) to apply accurately, it is crucial to\n",
        "meet the assumptions of random sampling, independence of observations,\n",
        "sufficiently large sample size, and a finite variance in the population.\n",
        "When these assumptions are satisfied, the CLT allows for the use of normal\n",
        "distribution techniques to make statistical inferences, even when the underlying\n",
        "population distribution is not normal. These assumptions help ensure that the\n",
        "CLT leads to reliable and meaningful results in practice."
      ]
    }
  ]
}