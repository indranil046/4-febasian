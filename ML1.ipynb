{
  "nbformat": 4,
  "nbformat_minor": 0,
  "metadata": {
    "colab": {
      "provenance": [],
      "authorship_tag": "ABX9TyM0YvtD0mU70z4LA+S8cZxo",
      "include_colab_link": true
    },
    "kernelspec": {
      "name": "python3",
      "display_name": "Python 3"
    },
    "language_info": {
      "name": "python"
    }
  },
  "cells": [
    {
      "cell_type": "markdown",
      "metadata": {
        "id": "view-in-github",
        "colab_type": "text"
      },
      "source": [
        "<a href=\"https://colab.research.google.com/github/indranil046/4-febasian/blob/main/ML1.ipynb\" target=\"_parent\"><img src=\"https://colab.research.google.com/assets/colab-badge.svg\" alt=\"Open In Colab\"/></a>"
      ]
    },
    {
      "cell_type": "code",
      "execution_count": null,
      "metadata": {
        "id": "GvEfPBzJUApH"
      },
      "outputs": [],
      "source": [
        "1:AI is the big concept of smart machines.\n",
        "\n",
        "ML is a way AI learns from data.\n",
        "\n",
        "DL is a powerful kind of ML using layered neural networks.\n",
        "\n",
        "2:Supervised Learning is a type of machine learning where the model is\n",
        "trained on a labeled dataset. This means that each training example includes an\n",
        "input and the correct output (label). The goal is for the model to learn a\n",
        "mapping from inputs to outputs, so it can predict the output for new, unseen\n",
        "inputs.\n",
        "exp:email Spam Detection\n",
        "\n",
        "3:Unsupervised Learning is a type of machine learning where the model is trained\n",
        " on unlabeled data, meaning the algorithm tries to learn patterns and structure\n",
        " without being given the correct answers.\n",
        "\n",
        "Instead of predicting a specific output, it looks for hidden patterns,\n",
        "groupings, or relationships in the data.\n",
        "example:Customer Segmentation\n",
        "\n",
        "4:AI is the goal: build smart systems.\n",
        "\n",
        "ML is a method: let systems learn from data.\n",
        "\n",
        "DL is a powerful ML technique: uses deep neural networks.\n",
        "\n",
        "DS is the broader field of working with data: asks questions, analyzes, and\n",
        "uses AI/ML when needed.\n",
        "\n",
        "5:Supervised Learning learns with answers – every example has a correct label.\n",
        "\n",
        "Unsupervised Learning works without answers – it finds patterns on its own.\n",
        "\n",
        "Semi-Supervised Learning is a mix – it uses a small amount of labeled data and\n",
        "\n",
        "a large amount of unlabeled data to improve learning accuracy.\n",
        "\n",
        "6:Training Set: Study material for an exam.\n",
        "\n",
        "Validation Set: Practice questions to check your understanding.\n",
        "\n",
        "Test Set: The final exam to assess how well you've learned.\n",
        "\n",
        "7:Unsupervised learning doesn’t need labeled anomalies, making it ideal when\n",
        "anomalies are rare or unknown in advance. It learns what “normal” looks like and\n",
        " flags anything that’s different.\n",
        "\n",
        "8:These algorithms require labeled data (input-output pairs) and are used for\n",
        "classification and regression tasks.\n",
        "\n",
        "Algorithm\tUse Case\n",
        "Linear Regression\tPredicting continuous values (e.g., house prices)\n",
        "Logistic Regression\tBinary classification (e.g., spam detection)\n",
        "Decision Trees\tBoth classification and regression\n",
        "Random Forest\tEnsemble of decision trees for better accuracy\n",
        "Support Vector Machine (SVM)\tClassification tasks with clear margins\n",
        "K-Nearest Neighbors (KNN)\tClassification by similarity (distance-based)\n",
        "Naive Bayes\tText classification (e.g., sentiment analysis)\n",
        "Gradient Boosting (e.g., XGBoost, LightGBM)\tPowerful for structured/tabular data\n",
        "\n",
        "🔍 Unsupervised Learning Algorithms:\n",
        "These algorithms find patterns in unlabeled data, such as clustering or\n",
        "dimensionality reduction.\n",
        "\n",
        "Algorithm\tUse Case\n",
        "K-Means Clustering\tGrouping similar data points (e.g., customer segmentation)\n",
        "Hierarchical Clustering\tBuilding a tree of clusters\n",
        "DBSCAN\tDensity-based clustering (detects noise/outliers)\n",
        "Principal Component Analysis (PCA)\tDimensionality reduction & pattern discovery\n",
        "t-SNE / UMAP\tVisualizing high-dimensional data\n",
        "Autoencoders\tDeep learning for anomaly detection or compression\n",
        "Isolation Forest\tOutlier/anomaly detection\n",
        "Gaussian Mixture Models (GMM)\tProbabilistic clustering"
      ]
    }
  ]
}