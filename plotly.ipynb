{
  "nbformat": 4,
  "nbformat_minor": 0,
  "metadata": {
    "colab": {
      "provenance": [],
      "authorship_tag": "ABX9TyMgNOD0BYYd5f4JCura/V8O",
      "include_colab_link": true
    },
    "kernelspec": {
      "name": "python3",
      "display_name": "Python 3"
    },
    "language_info": {
      "name": "python"
    }
  },
  "cells": [
    {
      "cell_type": "markdown",
      "metadata": {
        "id": "view-in-github",
        "colab_type": "text"
      },
      "source": [
        "<a href=\"https://colab.research.google.com/github/indranil046/4-febasian/blob/main/plotly.ipynb\" target=\"_parent\"><img src=\"https://colab.research.google.com/assets/colab-badge.svg\" alt=\"Open In Colab\"/></a>"
      ]
    },
    {
      "cell_type": "code",
      "execution_count": null,
      "metadata": {
        "id": "kDnVoABR0m3w"
      },
      "outputs": [],
      "source": [
        "1:import seaborn as sns\n",
        "import plotly.express as px\n",
        "\n",
        "# Load the Titanic dataset\n",
        "titanic = sns.load_dataset(\"titanic\")\n",
        "\n",
        "# Create scatter plot using Plotly Express\n",
        "fig = px.scatter(titanic, x=\"age\", y=\"fare\",\n",
        "                 title=\"Scatter Plot of Age vs Fare (Titanic Dataset)\",\n",
        "                 labels={\"age\": \"Age\", \"fare\": \"Fare\"},\n",
        "                 color=\"sex\")  # Optional: color by sex for more insight\n",
        "\n",
        "# Show plot\n",
        "fig.show()\n",
        "\n",
        "2:import plotly.express as px\n",
        "\n",
        "# Load the tips dataset\n",
        "tips = px.data.tips()\n",
        "\n",
        "# Create a box plot\n",
        "fig = px.box(tips, x=\"day\", y=\"total_bill\", color=\"sex\",\n",
        "             title=\"Box Plot of Total Bill by Day and Sex\",\n",
        "             labels={\"total_bill\": \"Total Bill\", \"day\": \"Day of the Week\"})\n",
        "\n",
        "# Show the plot\n",
        "fig.show()\n",
        "\n",
        "\n",
        "3:import plotly.express as px\n",
        "\n",
        "# Load the tips dataset\n",
        "tips = px.data.tips()\n",
        "\n",
        "# Create the histogram\n",
        "fig = px.histogram(tips,\n",
        "                   x=\"sex\",\n",
        "                   y=\"total_bill\",\n",
        "                   color=\"day\",\n",
        "                   pattern_shape=\"smoker\",\n",
        "                   title=\"Histogram of Total Bill by Sex with Day as Color and\n",
        "                   Smoker as Pattern\",\n",
        "                   labels={\"total_bill\": \"Total Bill\", \"sex\": \"Sex\", \"day\":\n",
        "                           \"Day\", \"smoker\": \"Smoker\"})\n",
        "\n",
        "# Show the plot\n",
        "fig.show()\n",
        "\n",
        "4:import plotly.express as px\n",
        "\n",
        "# Load the iris dataset\n",
        "iris = px.data.iris()\n",
        "\n",
        "# Create the scatter matrix plot\n",
        "fig = px.scatter_matrix(iris,\n",
        "                        dimensions=[\"sepal_length\", \"sepal_width\",\n",
        "                                    \"petal_length\", \"petal_width\"],\n",
        "                        color=\"species\",\n",
        "                        title=\"Scatter Matrix of Iris Dataset by Species\")\n",
        "\n",
        "# Show the plot\n",
        "fig.show()\n",
        "\n",
        "5:A distplot (short for distribution plot) is used to visualize the distribution\n",
        " of a dataset — typically as a histogram, sometimes overlaid with a density\n",
        " curve (KDE). It helps you understand the shape, spread, and central tendency of\n",
        "  your data."
      ]
    }
  ]
}