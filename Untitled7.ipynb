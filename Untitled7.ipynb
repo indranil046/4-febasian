{
  "nbformat": 4,
  "nbformat_minor": 0,
  "metadata": {
    "colab": {
      "provenance": [],
      "authorship_tag": "ABX9TyNEjltd8ud9/S3I9SvV7NAv",
      "include_colab_link": true
    },
    "kernelspec": {
      "name": "python3",
      "display_name": "Python 3"
    },
    "language_info": {
      "name": "python"
    }
  },
  "cells": [
    {
      "cell_type": "markdown",
      "metadata": {
        "id": "view-in-github",
        "colab_type": "text"
      },
      "source": [
        "<a href=\"https://colab.research.google.com/github/indranil046/4-febasian/blob/main/Untitled7.ipynb\" target=\"_parent\"><img src=\"https://colab.research.google.com/assets/colab-badge.svg\" alt=\"Open In Colab\"/></a>"
      ]
    },
    {
      "cell_type": "code",
      "execution_count": null,
      "metadata": {
        "id": "Cqk6eWVFAcZI"
      },
      "outputs": [],
      "source": [
        "##SQL ASSIGNMENT:\n",
        "1:A database is a structured collection of data that is stored electronically.\n",
        "2:SQL databases use SQL (Structured Query Language).\n",
        "NoSQL databases use JSON (JavaScript Object Notation), XML, YAML, or\n",
        "binary schema, facilitating unstructured data.\n",
        "SQL has a fixed-defined schema, while NoSQL databases are more flexible.\n",
        "3:DML stands for Data Manipulation Language, and it's a set of SQL commands used\n",
        " to manipulate data within a database, including adding, updating, and deleting records.\n",
        "Example: If you have a table called Customers with columns CustomerID, FirstName,\n",
        "and LastName, you could insert a new customer like this:\n",
        "INSERT INTO Customers (CustomerID, FirstName, LastName) VALUES (1, 'RAHUL', 'RAM');\n",
        "4:DQL stands for Data Query Language and is a subset of SQL used for retrieving\n",
        "data from a database. The primary command in DQL is SELECT, which allows you to\n",
        "extract specific columns and rows based on specified criteria\n",
        "Example:\n",
        "Let's say you have a table named Customers with columns CustomerID, Name, City,\n",
        "and Age.\n",
        "To retrieve all the data from the Customers table, you would use the following\n",
        "SELECT statement:\n",
        "SELECT *\n",
        "FROM Customers;\n",
        "SELECT Name, City\n",
        "FROM Customers;\n",
        "SELECT Name, City\n",
        "FROM Customers\n",
        "WHERE City = \"New York\";\n",
        "5:In relational databases, a primary key uniquely identifies each row in a table,\n",
        "while a foreign key establishes a link between two tables by referencing the\n",
        "primary key of another table\n",
        "6:cursor.execute(operation, params=None)\n",
        "iterator = cursor.execute(operation, params=None)\n",
        "iterator = cursor.execute(operation, params=None, multi=True)\n",
        "7:The order of execution of SQL clauses is: FROM, JOIN (if present), WHERE,\n",
        "GROUP BY, HAVING, SELECT, DISTINCT (if present), ORDER BY, and finally LIMIT/OFFSET"
      ]
    }
  ]
}