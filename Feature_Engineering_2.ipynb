{
  "nbformat": 4,
  "nbformat_minor": 0,
  "metadata": {
    "colab": {
      "provenance": [],
      "authorship_tag": "ABX9TyOZgabu344oOSmDODZORJbf",
      "include_colab_link": true
    },
    "kernelspec": {
      "name": "python3",
      "display_name": "Python 3"
    },
    "language_info": {
      "name": "python"
    }
  },
  "cells": [
    {
      "cell_type": "markdown",
      "metadata": {
        "id": "view-in-github",
        "colab_type": "text"
      },
      "source": [
        "<a href=\"https://colab.research.google.com/github/indranil046/4-febasian/blob/main/Feature_Engineering_2.ipynb\" target=\"_parent\"><img src=\"https://colab.research.google.com/assets/colab-badge.svg\" alt=\"Open In Colab\"/></a>"
      ]
    },
    {
      "cell_type": "code",
      "execution_count": null,
      "metadata": {
        "id": "Ozq-wrjaOY-2"
      },
      "outputs": [],
      "source": [
        "1:The Filter method is a feature selection technique used in machine learning\n",
        "and data preprocessing. It evaluates the relevance of each feature (independent\n",
        "                                                                    variable)\n",
        "independently of any machine learning model. It uses statistical measures to\n",
        "score and rank the features according to their relationship with the target\n",
        "variable.\n",
        "\n",
        "2:Filter = Fast, simple, model-agnostic.\n",
        "\n",
        "Wrapper = Accurate but slow, model-specific, and more prone to overfitting.\n",
        "\n",
        "3:Embedded methods combine the advantages of Filter and Wrapper methods. Feature\n",
        " selection is performed during the model training process, meaning the\n",
        "  algorithm automatically selects the most important features as it learns.\n",
        "\n",
        "4:The Filter method is great for speed and simplicity, but it sacrifices\n",
        "contextual accuracy and interaction awareness, which can reduce model\n",
        "performance in real-world scenarios.\n",
        "\n",
        "5:You would prefer the Filter method over the Wrapper method in situations\n",
        " where speed, scalability, and simplicity are more critical than finding the\n",
        " absolute best feature subset.\n",
        "\n",
        "6:Using the Filter method for customer churn prediction allows you to quickly\n",
        "identify the most relevant features by statistically measuring their relationship\n",
        " with churn, helping reduce noise and improving model efficiency.\n",
        "\n",
        "7:In a soccer match outcome prediction project, using the Embedded method\n",
        "helps automate feature selection, reduces overfitting, and ensures that only\n",
        " the most relevant features—like key player metrics or recent team form—are used\n",
        "  in the model.\n",
        "\n",
        "\n",
        "8:In your house price prediction project, the Wrapper method lets you\n",
        "systematically test feature combinations and choose the set that gives the best\n",
        "model performance, making it a strong choice when working with a limited number\n",
        "of features."
      ]
    }
  ]
}