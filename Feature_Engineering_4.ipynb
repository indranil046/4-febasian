{
  "nbformat": 4,
  "nbformat_minor": 0,
  "metadata": {
    "colab": {
      "provenance": [],
      "authorship_tag": "ABX9TyOqpCKJaUWMLgbFIYXvBDds",
      "include_colab_link": true
    },
    "kernelspec": {
      "name": "python3",
      "display_name": "Python 3"
    },
    "language_info": {
      "name": "python"
    }
  },
  "cells": [
    {
      "cell_type": "markdown",
      "metadata": {
        "id": "view-in-github",
        "colab_type": "text"
      },
      "source": [
        "<a href=\"https://colab.research.google.com/github/indranil046/4-febasian/blob/main/Feature_Engineering_4.ipynb\" target=\"_parent\"><img src=\"https://colab.research.google.com/assets/colab-badge.svg\" alt=\"Open In Colab\"/></a>"
      ]
    },
    {
      "cell_type": "code",
      "execution_count": null,
      "metadata": {
        "id": "0v1bOqniSX4H"
      },
      "outputs": [],
      "source": [
        "1:Data encoding refers to the process of converting data from its original\n",
        "format (often categorical data or non-numeric data) into a format that can be\n",
        "effectively used by machine learning algorithms, which typically require\n",
        "numerical input.\n",
        "\n",
        "2:Nominal encoding refers to the encoding technique used for categorical data\n",
        "where the categories have no inherent order or ranking. The categories are\n",
        "nominal (i.e., they are labels or names) and can only be identified or classified\n",
        ", without any meaningful order or distance between them.\n",
        "\n",
        "For example, consider a feature like \"City,\" where the categories could be New\n",
        "York, Los Angeles, Chicago, etc. These cities are just labels with no specific\n",
        "order. Nominal encoding is used to transform these categorical labels into a\n",
        "format suitable for machine learning algorithms.\n",
        "\n",
        "3:In the context of data preprocessing, nominal encoding\n",
        " (specifically, label encoding) is generally preferred over one-hot encoding\n",
        " in situations where the categorical variable has a natural order or when\n",
        " there are practical concerns about memory and computational efficiency.\n",
        " Label encoding is most useful in cases where one-hot encoding would result\n",
        " in excessive feature expansion, leading to issues like high-dimensionality\n",
        " or sparse matrices.\n",
        "\n",
        "4:In this scenario, there are several encoding techniques you can use to\n",
        "transform categorical data into a numerical format suitable for machine\n",
        "learning algorithms. The choice of technique depends on the nature of the\n",
        "categorical data, its relationship with the target variable, and the type\n",
        "of machine learning algorithm you're using.\n",
        "\n",
        "5:To solve this, we'll assume that nominal encoding refers to one-hot encoding,\n",
        "which is the most common form of encoding for nominal categorical data.\n",
        "The goal is to determine how many new columns will be created when the\n",
        "categorical variables are transformed.\n",
        "In this example, 7 new columns would be created by nominal (one-hot)\n",
        "encoding the two categorical columns.\n",
        "\n",
        "6:In this scenario, the dataset contains categorical features such as species,\n",
        "habitat, and diet, and the goal is to transform these features into a format\n",
        " that machine learning algorithms can understand. Let's analyze the best\n",
        " encoding techniques for each of these categorical columns.\n",
        "\n",
        "7:In this scenario, we have a dataset containing the following features:\n",
        "\n",
        "Gender: Categorical (Nominal)\n",
        "\n",
        "Age: Numerical (Continuous)\n",
        "\n",
        "Contract Type: Categorical (Nominal/Ordinal)\n",
        "\n",
        "Monthly Charges: Numerical (Continuous)\n",
        "\n",
        "Tenure: Numerical (Continuous)\n",
        "\n",
        "import pandas as pd\n",
        "from sklearn.preprocessing import OneHotEncoder, OrdinalEncoder\n",
        "\n",
        "# Sample dataset\n",
        "data = {'Customer': [1, 2, 3],\n",
        "        'Gender': ['Male', 'Female', 'Male'],\n",
        "        'Age': [34, 45, 23],\n",
        "        'Contract Type': ['Month-to-Month', 'One-Year', 'Two-Year'],\n",
        "        'Monthly Charges': [50, 75, 60],\n",
        "        'Tenure': [12, 24, 36]}\n",
        "\n",
        "df = pd.DataFrame(data)\n",
        "\n",
        "# 1. One-Hot Encoding for Gender\n",
        "gender_encoder = OneHotEncoder(drop='first', sparse=False)\n",
        "gender_encoded = gender_encoder.fit_transform(df[['Gender']])\n",
        "gender_encoded_df = pd.DataFrame(gender_encoded, columns=gender_encoder.get_feature_names_out(['Gender']))\n",
        "\n",
        "# 2. Ordinal Encoding for Contract Type\n",
        "contract_encoder = OrdinalEncoder(categories=[['Month-to-Month', 'One-Year', 'Two-Year']])\n",
        "df['Contract Type'] = contract_encoder.fit_transform(df[['Contract Type']])\n",
        "\n",
        "# 3. Concatenate the encoded columns with the original DataFrame\n",
        "df_encoded = pd.concat([df, gender_encoded_df], axis=1)\n",
        "df_encoded = df_encoded.drop('Gender', axis=1)  # Drop the original 'Gender' column\n",
        "\n",
        "# Show the result\n",
        "print(df_encoded)\n",
        "In this case, One-Hot Encoding was used for the Gender column, and Ordinal\n",
        "Encoding was applied to the Contract Type column, while the numerical columns\n",
        " (Age, Monthly Charges, and Tenure) did not require any encoding. This\n",
        " preprocessing step ensures the dataset is ready for machine learning algorithms"
      ]
    },
    {
      "cell_type": "markdown",
      "source": [],
      "metadata": {
        "id": "leHojvcwTQ6l"
      }
    }
  ]
}