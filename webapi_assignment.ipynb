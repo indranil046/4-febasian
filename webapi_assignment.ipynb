{
  "nbformat": 4,
  "nbformat_minor": 0,
  "metadata": {
    "colab": {
      "provenance": [],
      "authorship_tag": "ABX9TyPNjWloio+OezzdCS69ATBd",
      "include_colab_link": true
    },
    "kernelspec": {
      "name": "python3",
      "display_name": "Python 3"
    },
    "language_info": {
      "name": "python"
    }
  },
  "cells": [
    {
      "cell_type": "markdown",
      "metadata": {
        "id": "view-in-github",
        "colab_type": "text"
      },
      "source": [
        "<a href=\"https://colab.research.google.com/github/indranil046/4-febasian/blob/main/webapi_assignment.ipynb\" target=\"_parent\"><img src=\"https://colab.research.google.com/assets/colab-badge.svg\" alt=\"Open In Colab\"/></a>"
      ]
    },
    {
      "cell_type": "code",
      "execution_count": null,
      "metadata": {
        "id": "ETgAmh1jApCv"
      },
      "outputs": [],
      "source": [
        "##web api assignment\n",
        "1:API (Application Programming Interface) is a set of rules and protocols that\n",
        " allows different software applications to communicate with each other.\n",
        " Example: Payment Gateway API (PayPal, Stripe)\n",
        "When you make an online purchase on an e-commerce website like Amazon:\n",
        "\n",
        "At checkout, you enter your payment details.\n",
        "\n",
        "The website does not process your payment directly.\n",
        "\n",
        "Instead, it calls a Payment Gateway API (e.g., PayPal, Stripe).\n",
        "\n",
        "The Payment Gateway API securely processes your payment and returns a success or\n",
        "failure response to the e-commerce website.\n",
        "\n",
        "If the transaction is successful, the website confirms your order.\n",
        "\n",
        "Here, the Payment API allows the e-commerce site to handle payments without\n",
        "accessing sensitive banking details directly.\n",
        "2:Advantages of APIs:\n",
        "Automation – APIs enable automation by allowing systems to communicate without\n",
        "human intervention. For example, APIs can automate data transfers between apps.\n",
        "\n",
        "Efficiency & Speed – APIs eliminate the need for manual data entry and allow\n",
        "quick access to external services, improving efficiency.\n",
        "Disadvantages of APIs:\n",
        "Security Risks – If not properly secured, APIs can be vulnerable to attacks like\n",
        " data breaches, unauthorized access, and DDoS attacks.\n",
        "\n",
        "Complexity – Implementing and managing APIs can be complex, requiring developers\n",
        "to understand API documentation and handle errors properly.\n",
        "****While APIs provide powerful integration and automation capabilities, they\n",
        "also introduce security, cost, and performance challenges. Proper API design,\n",
        "security measures, and monitoring are crucial to maximizing their benefits\n",
        "3:All Web APIs are APIs, but not all APIs are Web APIs. Web APIs are\n",
        "specifically designed for web-based interactions, making them essential for\n",
        "modern applications like web services, cloud computing, and mobile applications.\n",
        "4:SOAP is a protocol that defines a strict communication standard for web services.\n",
        "It uses XML for message formatting and relies on protocols like HTTP, SMTP, and TCP.\n",
        "Use REST when you need a lightweight, scalable, and flexible API for web and\n",
        "mobile applications.\n",
        "Use SOAP when security and strict communication rules are critical, such as in\n",
        "banking and enterprise applications.\n",
        "5:Use REST if you need speed, scalability, and flexibility (best for web & mobile apps).\n",
        "\n",
        "Use SOAP if you need strict security and transaction reliability\n",
        " (best for banking & financial apps)."
      ]
    },
    {
      "cell_type": "markdown",
      "source": [],
      "metadata": {
        "id": "-e2vIwnhBTHS"
      }
    }
  ]
}