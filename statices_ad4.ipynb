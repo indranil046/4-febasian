{
  "nbformat": 4,
  "nbformat_minor": 0,
  "metadata": {
    "colab": {
      "provenance": [],
      "authorship_tag": "ABX9TyPORQY6SsKYFxGjZEyy8BdU",
      "include_colab_link": true
    },
    "kernelspec": {
      "name": "python3",
      "display_name": "Python 3"
    },
    "language_info": {
      "name": "python"
    }
  },
  "cells": [
    {
      "cell_type": "markdown",
      "metadata": {
        "id": "view-in-github",
        "colab_type": "text"
      },
      "source": [
        "<a href=\"https://colab.research.google.com/github/indranil046/4-febasian/blob/main/statices_ad4.ipynb\" target=\"_parent\"><img src=\"https://colab.research.google.com/assets/colab-badge.svg\" alt=\"Open In Colab\"/></a>"
      ]
    },
    {
      "cell_type": "code",
      "execution_count": null,
      "metadata": {
        "id": "S8erUdGj78bC"
      },
      "outputs": [],
      "source": [
        "1:T-Test Example:\n",
        "You are testing whether a new drug lowers blood pressure. You sample 20 patients\n",
        ", and the population standard deviation is unknown.\n",
        "→ Use a t-test (specifically a one-sample t-test if comparing to a known value,\n",
        "or a paired t-test if pre/post).\n",
        "\n",
        "Z-Test Example:\n",
        "A manufacturer claims that the average lifetime of a battery is 500 hours. You\n",
        "take a sample of 50 batteries and the population standard deviation is known.\n",
        "→ Use a z-test to test the claim.\n",
        "\n",
        "2:You believe a training program will increase test scores.\n",
        "You want to check if a new teaching method causes any change in scores\n",
        " (increase or decrease).\n",
        "\n",
        "3:Type I error (α): Detecting an effect when there is none.\n",
        "\n",
        "Type II error (β): Missing an effect when there is one.\n",
        "\n",
        "\n",
        "4:Even with a positive test, there's only a 50% chance you actually have the disease.\n",
        "\n",
        "Would you like a visual diagram to help illustrate this example?\n",
        "\n",
        "\n",
        "5:A confidence interval gives a range of values that is likely to contain a\n",
        "population parameter (like the mean), with a certain level of confidence\n",
        " (e.g., 95%).\n",
        "\n",
        "6:So, if an email contains the word \"win\", there's about a 78.65% chance it's\n",
        "spam.\n",
        "\n",
        "Would you like a visual or tree diagram to help see how the probabilities split?\n",
        "\n",
        "7:We are 95% confident that the true population mean lies within the calculated\n",
        "interval.\n",
        "That means if we repeated the sampling many times, about 95% of the intervals\n",
        "would contain the actual population mean.\n",
        "\n",
        "8:A larger sample size cuts the margin of error in half, giving a narrower\n",
        "and more accurate confidence interval.\n",
        "\n",
        "\n",
        "9:A z-score of 1 means the value of 75 is 1 standard deviation above the\n",
        "population mean of 70.\n",
        "\n",
        "In a normal distribution, about 84.13% of values lie below a z-score of 1.\n",
        "\n",
        "10:At the 95% confidence level, there is strong evidence that the weight loss\n",
        " drug is significantly effective.\n",
        "\n",
        "11:We are 95% confident that the true proportion of people satisfied with their\n",
        "job lies between 60.82% and 69.18%.\n",
        "\n",
        "This range gives us an estimate of how satisfied the broader population might\n",
        "be based on this survey. Would you like to explore how this confidence interval\n",
        "would change with a different sample size or confidence level?\n",
        "\n",
        "12:At a 1% significance level, there is no significant difference in student\n",
        "performance between the two teaching methods. We do not have enough evidence to\n",
        "conclude that one teaching method is more effective than the other.\n",
        "\n",
        "13:We are 90% confident that the true population mean lies between 63.14 and 66.86.\n",
        "\n",
        "Would you like to explore how the confidence interval changes with different\n",
        "sample sizes or confidence levels?\n",
        "\n",
        "14:At a 90% confidence level, there is no significant effect of caffeine on\n",
        "reaction time. The data does not provide enough evidence to conclude that\n",
        "caffeine significantly affects reaction time."
      ]
    },
    {
      "cell_type": "code",
      "source": [],
      "metadata": {
        "id": "3xdaxLdz9x3m"
      },
      "execution_count": null,
      "outputs": []
    }
  ]
}